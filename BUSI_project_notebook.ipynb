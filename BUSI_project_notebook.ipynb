{
  "cells": [
    {
      "cell_type": "markdown",
      "metadata": {
        "id": "view-in-github",
        "colab_type": "text"
      },
      "source": [
        "<a href=\"https://colab.research.google.com/github/alifabdullah/DataScience/blob/main/BUSI_project_notebook.ipynb\" target=\"_parent\"><img src=\"https://colab.research.google.com/assets/colab-badge.svg\" alt=\"Open In Colab\"/></a>"
      ]
    },
    {
      "cell_type": "code",
      "source": [
        "import os, sys, time, shutil, random\n",
        "from pathlib import Path\n",
        "import numpy as np\n",
        "import matplotlib.pyplot as plt\n",
        "from PIL import Image\n",
        "import torch, torch.nn as nn\n",
        "import torchvision.transforms as T\n",
        "from torch.utils.data import Dataset, DataLoader\n",
        "from sklearn.model_selection import train_test_split\n",
        "from sklearn.metrics import confusion_matrix, classification_report\n",
        "import timm\n"
      ],
      "metadata": {
        "id": "id1wZPq7K_pB"
      },
      "id": "id1wZPq7K_pB",
      "execution_count": 3,
      "outputs": []
    },
    {
      "cell_type": "markdown",
      "source": [
        "### --- CONFIG ---"
      ],
      "metadata": {
        "id": "eh2lbKAvLZSz"
      },
      "id": "eh2lbKAvLZSz"
    },
    {
      "cell_type": "code",
      "source": [
        "import kagglehub\n",
        "\n",
        "# Download latest version\n",
        "path = kagglehub.dataset_download(\"sabahesaraki/breast-ultrasound-images-dataset\")\n",
        "\n",
        "print(\"Path to dataset files:\", path)\n"
      ],
      "metadata": {
        "colab": {
          "base_uri": "https://localhost:8080/"
        },
        "id": "6Cz64-rd6Y4c",
        "outputId": "3da6d438-409a-46a4-d60f-9c9f7c0c2471"
      },
      "id": "6Cz64-rd6Y4c",
      "execution_count": 4,
      "outputs": [
        {
          "output_type": "stream",
          "name": "stdout",
          "text": [
            "Downloading from https://www.kaggle.com/api/v1/datasets/download/sabahesaraki/breast-ultrasound-images-dataset?dataset_version_number=1...\n"
          ]
        },
        {
          "output_type": "stream",
          "name": "stderr",
          "text": [
            "100%|██████████| 195M/195M [00:03<00:00, 62.9MB/s]"
          ]
        },
        {
          "output_type": "stream",
          "name": "stdout",
          "text": [
            "Extracting files...\n"
          ]
        },
        {
          "output_type": "stream",
          "name": "stderr",
          "text": [
            "\n"
          ]
        },
        {
          "output_type": "stream",
          "name": "stdout",
          "text": [
            "Path to dataset files: /root/.cache/kagglehub/datasets/sabahesaraki/breast-ultrasound-images-dataset/versions/1\n"
          ]
        }
      ]
    },
    {
      "cell_type": "code",
      "source": [
        "BASE_PATH = '/root/.cache/kagglehub/datasets/sabahesaraki/breast-ultrasound-images-dataset/versions/1/Dataset_BUSI_with_GT'\n",
        "tumor_types = []\n",
        "for path in os.listdir(BASE_PATH):\n",
        "    # Assuming each directory in BASE_PATH is a tumor type\n",
        "    tumor_types.append(path)\n",
        "print(tumor_types)"
      ],
      "metadata": {
        "execution": {
          "iopub.status.busy": "2025-10-04T08:05:11.189443Z",
          "iopub.execute_input": "2025-10-04T08:05:11.189744Z",
          "iopub.status.idle": "2025-10-04T08:05:11.202236Z",
          "shell.execute_reply.started": "2025-10-04T08:05:11.189704Z",
          "shell.execute_reply": "2025-10-04T08:05:11.201421Z"
        },
        "trusted": true,
        "colab": {
          "base_uri": "https://localhost:8080/"
        },
        "id": "q2Z77mWMQjq-",
        "outputId": "fd5cd895-edf8-4f4e-cf7a-2552b0a3cc98"
      },
      "outputs": [
        {
          "output_type": "stream",
          "name": "stdout",
          "text": [
            "['normal', 'benign', 'malignant']\n"
          ]
        }
      ],
      "execution_count": 7,
      "id": "q2Z77mWMQjq-"
    },
    {
      "cell_type": "code",
      "source": [
        "OUT_DIR = \"./outputs\"\n",
        "IMG_SIZE = 224\n",
        "BATCH = 32\n",
        "EPOCHS = 8\n",
        "LR = 1e-4\n",
        "SEED = 42\n",
        "\n",
        "os.makedirs(OUT_DIR, exist_ok=True)\n",
        "device = torch.device(\"cuda\" if torch.cuda.is_available() else \"cpu\")\n",
        "random.seed(SEED); np.random.seed(SEED); torch.manual_seed(SEED)\n"
      ],
      "metadata": {
        "colab": {
          "base_uri": "https://localhost:8080/"
        },
        "id": "deZpPHfpKdrx",
        "outputId": "c2201eca-fa8c-450a-8d0e-9a4e109c6868"
      },
      "id": "deZpPHfpKdrx",
      "execution_count": 8,
      "outputs": [
        {
          "output_type": "execute_result",
          "data": {
            "text/plain": [
              "<torch._C.Generator at 0x7dbc18730d70>"
            ]
          },
          "metadata": {},
          "execution_count": 8
        }
      ]
    },
    {
      "cell_type": "markdown",
      "source": [
        "#### --- Gather dataset ---"
      ],
      "metadata": {
        "id": "JNL4s52oNyFr"
      },
      "id": "JNL4s52oNyFr"
    },
    {
      "cell_type": "code",
      "source": [
        "imgs, labels = [], []\n",
        "for idx, tumor in enumerate(tumor_types):\n",
        "    folder = Path(BASE_PATH) / tumor\n",
        "    for f in folder.glob(\"*.png\"):\n",
        "        if \"mask\" in f.name.lower():  # skip segmentation masks\n",
        "            continue\n",
        "        imgs.append(str(f)); labels.append(idx)\n",
        "\n",
        "print(f\"Found {len(imgs)} images\")"
      ],
      "metadata": {
        "colab": {
          "base_uri": "https://localhost:8080/"
        },
        "id": "HZg0TaEEL0_y",
        "outputId": "74bf9bce-ac08-43e0-81a2-a9c81bf9770a"
      },
      "id": "HZg0TaEEL0_y",
      "execution_count": 9,
      "outputs": [
        {
          "output_type": "stream",
          "name": "stdout",
          "text": [
            "Found 780 images\n"
          ]
        }
      ]
    },
    {
      "cell_type": "markdown",
      "source": [
        "#### --- Dataset class ---"
      ],
      "metadata": {
        "id": "DeLn7kqFN0C6"
      },
      "id": "DeLn7kqFN0C6"
    },
    {
      "cell_type": "code",
      "source": [
        "class ImgDataset(Dataset):\n",
        "    def __init__(self, paths, labels, transform=None):\n",
        "        self.paths = paths; self.labels = labels; self.transform = transform\n",
        "    def __len__(self): return len(self.paths)\n",
        "    def __getitem__(self, idx):\n",
        "        img = Image.open(self.paths[idx]).convert('RGB')\n",
        "        if self.transform: img = self.transform(img)\n",
        "        return img, self.labels[idx]\n",
        "\n",
        "transform = T.Compose([\n",
        "    T.Resize((IMG_SIZE, IMG_SIZE)),\n",
        "    T.RandomHorizontalFlip(),\n",
        "    T.ToTensor(),\n",
        "    T.Normalize([0.485,0.456,0.406],[0.229,0.224,0.225])\n",
        "])"
      ],
      "metadata": {
        "id": "i4PEePgNNzkL"
      },
      "id": "i4PEePgNNzkL",
      "execution_count": 10,
      "outputs": []
    },
    {
      "cell_type": "markdown",
      "source": [
        "#### Train/Val/Test split"
      ],
      "metadata": {
        "id": "46_USzSzONhz"
      },
      "id": "46_USzSzONhz"
    },
    {
      "cell_type": "code",
      "source": [
        "X_tr, X_tmp, y_tr, y_tmp = train_test_split(imgs, labels, test_size=0.3, stratify=labels, random_state=SEED)\n",
        "X_val, X_test, y_val, y_test = train_test_split(X_tmp, y_tmp, test_size=0.5, stratify=y_tmp, random_state=SEED)\n",
        "\n",
        "train_loader = DataLoader(ImgDataset(X_tr,y_tr,transform), batch_size=BATCH, shuffle=True)\n",
        "val_loader   = DataLoader(ImgDataset(X_val,y_val,transform), batch_size=BATCH, shuffle=False)\n",
        "test_loader  = DataLoader(ImgDataset(X_test,y_test,transform), batch_size=BATCH, shuffle=False)\n",
        "\n",
        "print(\"Train/Val/Test:\", len(X_tr), len(X_val), len(X_test))"
      ],
      "metadata": {
        "colab": {
          "base_uri": "https://localhost:8080/"
        },
        "id": "qSc7d3wbOM-N",
        "outputId": "67426667-bc2c-43f3-f830-2c04172f7238"
      },
      "id": "qSc7d3wbOM-N",
      "execution_count": 11,
      "outputs": [
        {
          "output_type": "stream",
          "name": "stdout",
          "text": [
            "Train/Val/Test: 546 117 117\n"
          ]
        }
      ]
    },
    {
      "cell_type": "markdown",
      "source": [
        "#### --- Model ---"
      ],
      "metadata": {
        "id": "CveO7prwPE8-"
      },
      "id": "CveO7prwPE8-"
    },
    {
      "cell_type": "code",
      "source": [
        "NUM_CLASSES = len(tumor_types)\n",
        "def make_model():\n",
        "    try:\n",
        "        m = timm.create_model('vit_base_patch16_224', pretrained=True, num_classes=NUM_CLASSES)\n",
        "        print(\"Using ViT from timm\")\n",
        "    except:\n",
        "        print(\"Fallback: Simple CNN\")\n",
        "        class SimpleCNN(nn.Module):\n",
        "            def __init__(self):\n",
        "                super().__init__()\n",
        "                self.feats = nn.Sequential(\n",
        "                    nn.Conv2d(3,32,3,padding=1),\n",
        "                    nn.ReLU(),\n",
        "                    nn.MaxPool2d(2),\n",
        "                    nn.Conv2d(32,64,3,padding=1),\n",
        "                    nn.ReLU(),\n",
        "                    nn.MaxPool2d(2),\n",
        "                    nn.Conv2d(64,128,3,padding=1),\n",
        "                    nn.ReLU(),\n",
        "                    nn.AdaptiveAvgPool2d(1)\n",
        "                )\n",
        "                self.fc = nn.Linear(128, NUM_CLASSES)\n",
        "            def forward(self,x):\n",
        "                x=self.feats(x); return self.fc(x.view(x.size(0),-1))\n",
        "        m = SimpleCNN()\n",
        "    return m.to(device)\n",
        "\n",
        "model = make_model()\n",
        "opt = torch.optim.Adam(model.parameters(), lr=LR)\n",
        "criterion = nn.CrossEntropyLoss()\n"
      ],
      "metadata": {
        "colab": {
          "base_uri": "https://localhost:8080/",
          "height": 188,
          "referenced_widgets": [
            "a8cb927e8143457181cb9cfbd9515660",
            "8821bb1b0e5c4d6b8fedb98a42a59f6e",
            "19dd287e974f4544a6a5e3e6e1481611",
            "3f9ac5d2f3cf424f8a96b4c52366b92c",
            "c13a0f5ea89544ae94bbeec259595c60",
            "96dfc7597f2841bcb4f0ea91723ec0a1",
            "40ef733edf0a46cca72778b4015d1f23",
            "e2707f85a011417bb4a779ff23e415f0",
            "8135c8438a3a44b98ee800c79ff7736a",
            "16181afe705641dba7dc8234b5cd786e",
            "b4f63624916b4773a176639d7f24e9bd"
          ]
        },
        "id": "sAhpJG8oOQb6",
        "outputId": "c68373ad-90c1-42f3-99f0-7efa242667c2"
      },
      "id": "sAhpJG8oOQb6",
      "execution_count": 12,
      "outputs": [
        {
          "output_type": "stream",
          "name": "stderr",
          "text": [
            "/usr/local/lib/python3.12/dist-packages/huggingface_hub/utils/_auth.py:94: UserWarning: \n",
            "The secret `HF_TOKEN` does not exist in your Colab secrets.\n",
            "To authenticate with the Hugging Face Hub, create a token in your settings tab (https://huggingface.co/settings/tokens), set it as secret in your Google Colab and restart your session.\n",
            "You will be able to reuse this secret in all of your notebooks.\n",
            "Please note that authentication is recommended but still optional to access public models or datasets.\n",
            "  warnings.warn(\n"
          ]
        },
        {
          "output_type": "display_data",
          "data": {
            "text/plain": [
              "model.safetensors:   0%|          | 0.00/346M [00:00<?, ?B/s]"
            ],
            "application/vnd.jupyter.widget-view+json": {
              "version_major": 2,
              "version_minor": 0,
              "model_id": "a8cb927e8143457181cb9cfbd9515660"
            }
          },
          "metadata": {}
        },
        {
          "output_type": "stream",
          "name": "stdout",
          "text": [
            "Using ViT from timm\n"
          ]
        }
      ]
    },
    {
      "cell_type": "markdown",
      "source": [
        "#### --- Training ---"
      ],
      "metadata": {
        "id": "HpcbCjIXPofa"
      },
      "id": "HpcbCjIXPofa"
    },
    {
      "cell_type": "code",
      "source": [
        "def train_epoch():\n",
        "    model.train(); losses=[]; correct=0; total=0\n",
        "    for x,y in train_loader:\n",
        "        x,y = x.to(device), torch.tensor(y).to(device)\n",
        "        opt.zero_grad()\n",
        "        out = model(x); loss = criterion(out,y)\n",
        "        loss.backward(); opt.step()\n",
        "        losses.append(loss.item())\n",
        "        correct += (out.argmax(1)==y).sum().item(); total += y.size(0)\n",
        "    return np.mean(losses), correct/total\n",
        "\n",
        "def eval_loader(loader):\n",
        "    model.eval(); losses=[]; preds=[]; gts=[]\n",
        "    with torch.no_grad():\n",
        "        for x,y in loader:\n",
        "            x,y = x.to(device), torch.tensor(y).to(device)\n",
        "            out = model(x); loss = criterion(out,y)\n",
        "            losses.append(loss.item())\n",
        "            preds.extend(out.argmax(1).cpu().numpy()); gts.extend(y.cpu().numpy())\n",
        "    acc = (np.array(preds)==np.array(gts)).mean()\n",
        "    return np.mean(losses), acc, preds, gts\n",
        "\n",
        "history={'train_loss':[],'val_loss':[],'train_acc':[],'val_acc':[]}\n",
        "best_val=0; best_path=os.path.join(OUT_DIR,\"best_model.pth\")\n",
        "\n",
        "for ep in range(EPOCHS):\n",
        "    tr_loss,tr_acc=train_epoch()\n",
        "    val_loss,val_acc,_,_=eval_loader(val_loader)\n",
        "    history['train_loss'].append(tr_loss); history['val_loss'].append(val_loss)\n",
        "    history['train_acc'].append(tr_acc); history['val_acc'].append(val_acc)\n",
        "    print(f\"Epoch {ep+1}/{EPOCHS} tr_acc={tr_acc:.3f} val_acc={val_acc:.3f}\")\n",
        "    if val_acc>best_val: torch.save(model.state_dict(),best_path); best_val=val_acc\n"
      ],
      "metadata": {
        "colab": {
          "base_uri": "https://localhost:8080/"
        },
        "id": "_oFzNZHIPoKz",
        "outputId": "e0634b41-417d-4f64-a32e-24eab2b68310"
      },
      "id": "_oFzNZHIPoKz",
      "execution_count": 13,
      "outputs": [
        {
          "output_type": "stream",
          "name": "stderr",
          "text": [
            "/tmp/ipython-input-2644282010.py:4: UserWarning: To copy construct from a tensor, it is recommended to use sourceTensor.detach().clone() or sourceTensor.detach().clone().requires_grad_(True), rather than torch.tensor(sourceTensor).\n",
            "  x,y = x.to(device), torch.tensor(y).to(device)\n",
            "/tmp/ipython-input-2644282010.py:16: UserWarning: To copy construct from a tensor, it is recommended to use sourceTensor.detach().clone() or sourceTensor.detach().clone().requires_grad_(True), rather than torch.tensor(sourceTensor).\n",
            "  x,y = x.to(device), torch.tensor(y).to(device)\n"
          ]
        },
        {
          "output_type": "stream",
          "name": "stdout",
          "text": [
            "Epoch 1/8 tr_acc=0.484 val_acc=0.556\n",
            "Epoch 2/8 tr_acc=0.511 val_acc=0.556\n",
            "Epoch 3/8 tr_acc=0.535 val_acc=0.556\n",
            "Epoch 4/8 tr_acc=0.566 val_acc=0.581\n",
            "Epoch 5/8 tr_acc=0.599 val_acc=0.573\n",
            "Epoch 6/8 tr_acc=0.667 val_acc=0.701\n",
            "Epoch 7/8 tr_acc=0.689 val_acc=0.709\n",
            "Epoch 8/8 tr_acc=0.723 val_acc=0.650\n"
          ]
        }
      ]
    },
    {
      "cell_type": "markdown",
      "source": [
        "# --- Test ---"
      ],
      "metadata": {
        "id": "SCKrHfGrQB7a"
      },
      "id": "SCKrHfGrQB7a"
    },
    {
      "cell_type": "code",
      "source": [
        "model.load_state_dict(torch.load(best_path))\n",
        "test_loss,test_acc,preds,targets=eval_loader(test_loader)\n",
        "print(\"Test acc:\",test_acc)\n",
        "print(classification_report(targets,preds,target_names=tumor_types))\n"
      ],
      "metadata": {
        "id": "w9QiKUeiQBVj",
        "colab": {
          "base_uri": "https://localhost:8080/"
        },
        "outputId": "fec4c04d-206c-4dd0-a103-c269774645a5"
      },
      "id": "w9QiKUeiQBVj",
      "execution_count": 14,
      "outputs": [
        {
          "output_type": "stream",
          "name": "stderr",
          "text": [
            "/tmp/ipython-input-2644282010.py:16: UserWarning: To copy construct from a tensor, it is recommended to use sourceTensor.detach().clone() or sourceTensor.detach().clone().requires_grad_(True), rather than torch.tensor(sourceTensor).\n",
            "  x,y = x.to(device), torch.tensor(y).to(device)\n"
          ]
        },
        {
          "output_type": "stream",
          "name": "stdout",
          "text": [
            "Test acc: 0.6239316239316239\n",
            "              precision    recall  f1-score   support\n",
            "\n",
            "      normal       0.50      0.05      0.09        20\n",
            "      benign       0.63      0.89      0.74        66\n",
            "   malignant       0.62      0.42      0.50        31\n",
            "\n",
            "    accuracy                           0.62       117\n",
            "   macro avg       0.58      0.45      0.44       117\n",
            "weighted avg       0.60      0.62      0.56       117\n",
            "\n"
          ]
        }
      ]
    },
    {
      "cell_type": "markdown",
      "source": [
        "#### --- Plots ---\n"
      ],
      "metadata": {
        "id": "2R-MT7UDZcx0"
      },
      "id": "2R-MT7UDZcx0"
    },
    {
      "cell_type": "code",
      "source": [
        "\n",
        "plt.figure(); plt.plot(history['train_acc'],label=\"train\"); plt.plot(history['val_acc'],label=\"val\"); plt.legend(); plt.title(\"Accuracy\"); plt.show()\n",
        "plt.figure(); plt.plot(history['train_loss'],label=\"train\"); plt.plot(history['val_loss'],label=\"val\"); plt.legend(); plt.title(\"Loss\"); plt.show()\n",
        "\n",
        "import seaborn as sns\n",
        "cm = confusion_matrix(targets,preds)\n",
        "sns.heatmap(cm,annot=True,fmt=\"d\",cmap=\"Blues\",xticklabels=tumor_types,yticklabels=tumor_types)\n",
        "plt.title(\"Confusion Matrix\"); plt.show()"
      ],
      "metadata": {
        "id": "IyYZX34XZcIY",
        "colab": {
          "base_uri": "https://localhost:8080/",
          "height": 1000
        },
        "outputId": "2a51edf4-8429-49d4-b182-e54c343ca494"
      },
      "id": "IyYZX34XZcIY",
      "execution_count": 15,
      "outputs": [
        {
          "output_type": "display_data",
          "data": {
            "text/plain": [
              "<Figure size 640x480 with 1 Axes>"
            ],
            "image/png": "[encoded data removed]"
          },
          "metadata": {}
        },
        {
          "output_type": "display_data",
          "data": {
            "text/plain": [
              "<Figure size 640x480 with 1 Axes>"
            ],
            "image/png": "[encoded data removed]"
          },
          "metadata": {}
        },
        {
          "output_type": "display_data",
          "data": {
            "text/plain": [
              "<Figure size 640x480 with 2 Axes>"
            ],
            "image/png": "[encoded data removed]"
          },
          "metadata": {}
        }
      ]
    }
  ],
  "metadata": {
    "kernelspec": {
      "display_name": "Python 3",
      "language": "python",
      "name": "python3"
    },
    "language_info": {
      "name": "python",
      "version": "3.10"
    },
    "colab": {
      "provenance": [],
      "include_colab_link": true
    },
    "widgets": {
      "application/vnd.jupyter.widget-state+json": {
        "a8cb927e8143457181cb9cfbd9515660": {
          "model_module": "@jupyter-widgets/controls",
          "model_name": "HBoxModel",
          "model_module_version": "1.5.0",
          "state": {
            "_dom_classes": [],
            "_model_module": "@jupyter-widgets/controls",
            "_model_module_version": "1.5.0",
            "_model_name": "HBoxModel",
            "_view_count": null,
            "_view_module": "@jupyter-widgets/controls",
            "_view_module_version": "1.5.0",
            "_view_name": "HBoxView",
            "box_style": "",
            "children": [
              "IPY_MODEL_8821bb1b0e5c4d6b8fedb98a42a59f6e",
              "IPY_MODEL_19dd287e974f4544a6a5e3e6e1481611",
              "IPY_MODEL_3f9ac5d2f3cf424f8a96b4c52366b92c"
            ],
            "layout": "IPY_MODEL_c13a0f5ea89544ae94bbeec259595c60"
          }
        },
        "8821bb1b0e5c4d6b8fedb98a42a59f6e": {
          "model_module": "@jupyter-widgets/controls",
          "model_name": "HTMLModel",
          "model_module_version": "1.5.0",
          "state": {
            "_dom_classes": [],
            "_model_module": "@jupyter-widgets/controls",
            "_model_module_version": "1.5.0",
            "_model_name": "HTMLModel",
            "_view_count": null,
            "_view_module": "@jupyter-widgets/controls",
            "_view_module_version": "1.5.0",
            "_view_name": "HTMLView",
            "description": "",
            "description_tooltip": null,
            "layout": "IPY_MODEL_96dfc7597f2841bcb4f0ea91723ec0a1",
            "placeholder": "​",
            "style": "IPY_MODEL_40ef733edf0a46cca72778b4015d1f23",
            "value": "model.safetensors: 100%"
          }
        },
        "19dd287e974f4544a6a5e3e6e1481611": {
          "model_module": "@jupyter-widgets/controls",
          "model_name": "FloatProgressModel",
          "model_module_version": "1.5.0",
          "state": {
            "_dom_classes": [],
            "_model_module": "@jupyter-widgets/controls",
            "_model_module_version": "1.5.0",
            "_model_name": "FloatProgressModel",
            "_view_count": null,
            "_view_module": "@jupyter-widgets/controls",
            "_view_module_version": "1.5.0",
            "_view_name": "ProgressView",
            "bar_style": "success",
            "description": "",
            "description_tooltip": null,
            "layout": "IPY_MODEL_e2707f85a011417bb4a779ff23e415f0",
            "max": 346284714,
            "min": 0,
            "orientation": "horizontal",
            "style": "IPY_MODEL_8135c8438a3a44b98ee800c79ff7736a",
            "value": 346284714
          }
        },
        "3f9ac5d2f3cf424f8a96b4c52366b92c": {
          "model_module": "@jupyter-widgets/controls",
          "model_name": "HTMLModel",
          "model_module_version": "1.5.0",
          "state": {
            "_dom_classes": [],
            "_model_module": "@jupyter-widgets/controls",
            "_model_module_version": "1.5.0",
            "_model_name": "HTMLModel",
            "_view_count": null,
            "_view_module": "@jupyter-widgets/controls",
            "_view_module_version": "1.5.0",
            "_view_name": "HTMLView",
            "description": "",
            "description_tooltip": null,
            "layout": "IPY_MODEL_16181afe705641dba7dc8234b5cd786e",
            "placeholder": "​",
            "style": "IPY_MODEL_b4f63624916b4773a176639d7f24e9bd",
            "value": " 346M/346M [00:03&lt;00:00, 180MB/s]"
          }
        },
        "c13a0f5ea89544ae94bbeec259595c60": {
          "model_module": "@jupyter-widgets/base",
          "model_name": "LayoutModel",
          "model_module_version": "1.2.0",
          "state": {
            "_model_module": "@jupyter-widgets/base",
            "_model_module_version": "1.2.0",
            "_model_name": "LayoutModel",
            "_view_count": null,
            "_view_module": "@jupyter-widgets/base",
            "_view_module_version": "1.2.0",
            "_view_name": "LayoutView",
            "align_content": null,
            "align_items": null,
            "align_self": null,
            "border": null,
            "bottom": null,
            "display": null,
            "flex": null,
            "flex_flow": null,
            "grid_area": null,
            "grid_auto_columns": null,
            "grid_auto_flow": null,
            "grid_auto_rows": null,
            "grid_column": null,
            "grid_gap": null,
            "grid_row": null,
            "grid_template_areas": null,
            "grid_template_columns": null,
            "grid_template_rows": null,
            "height": null,
            "justify_content": null,
            "justify_items": null,
            "left": null,
            "margin": null,
            "max_height": null,
            "max_width": null,
            "min_height": null,
            "min_width": null,
            "object_fit": null,
            "object_position": null,
            "order": null,
            "overflow": null,
            "overflow_x": null,
            "overflow_y": null,
            "padding": null,
            "right": null,
            "top": null,
            "visibility": null,
            "width": null
          }
        },
        "96dfc7597f2841bcb4f0ea91723ec0a1": {
          "model_module": "@jupyter-widgets/base",
          "model_name": "LayoutModel",
          "model_module_version": "1.2.0",
          "state": {
            "_model_module": "@jupyter-widgets/base",
            "_model_module_version": "1.2.0",
            "_model_name": "LayoutModel",
            "_view_count": null,
            "_view_module": "@jupyter-widgets/base",
            "_view_module_version": "1.2.0",
            "_view_name": "LayoutView",
            "align_content": null,
            "align_items": null,
            "align_self": null,
            "border": null,
            "bottom": null,
            "display": null,
            "flex": null,
            "flex_flow": null,
            "grid_area": null,
            "grid_auto_columns": null,
            "grid_auto_flow": null,
            "grid_auto_rows": null,
            "grid_column": null,
            "grid_gap": null,
            "grid_row": null,
            "grid_template_areas": null,
            "grid_template_columns": null,
            "grid_template_rows": null,
            "height": null,
            "justify_content": null,
            "justify_items": null,
            "left": null,
            "margin": null,
            "max_height": null,
            "max_width": null,
            "min_height": null,
            "min_width": null,
            "object_fit": null,
            "object_position": null,
            "order": null,
            "overflow": null,
            "overflow_x": null,
            "overflow_y": null,
            "padding": null,
            "right": null,
            "top": null,
            "visibility": null,
            "width": null
          }
        },
        "40ef733edf0a46cca72778b4015d1f23": {
          "model_module": "@jupyter-widgets/controls",
          "model_name": "DescriptionStyleModel",
          "model_module_version": "1.5.0",
          "state": {
            "_model_module": "@jupyter-widgets/controls",
            "_model_module_version": "1.5.0",
            "_model_name": "DescriptionStyleModel",
            "_view_count": null,
            "_view_module": "@jupyter-widgets/base",
            "_view_module_version": "1.2.0",
            "_view_name": "StyleView",
            "description_width": ""
          }
        },
        "e2707f85a011417bb4a779ff23e415f0": {
          "model_module": "@jupyter-widgets/base",
          "model_name": "LayoutModel",
          "model_module_version": "1.2.0",
          "state": {
            "_model_module": "@jupyter-widgets/base",
            "_model_module_version": "1.2.0",
            "_model_name": "LayoutModel",
            "_view_count": null,
            "_view_module": "@jupyter-widgets/base",
            "_view_module_version": "1.2.0",
            "_view_name": "LayoutView",
            "align_content": null,
            "align_items": null,
            "align_self": null,
            "border": null,
            "bottom": null,
            "display": null,
            "flex": null,
            "flex_flow": null,
            "grid_area": null,
            "grid_auto_columns": null,
            "grid_auto_flow": null,
            "grid_auto_rows": null,
            "grid_column": null,
            "grid_gap": null,
            "grid_row": null,
            "grid_template_areas": null,
            "grid_template_columns": null,
            "grid_template_rows": null,
            "height": null,
            "justify_content": null,
            "justify_items": null,
            "left": null,
            "margin": null,
            "max_height": null,
            "max_width": null,
            "min_height": null,
            "min_width": null,
            "object_fit": null,
            "object_position": null,
            "order": null,
            "overflow": null,
            "overflow_x": null,
            "overflow_y": null,
            "padding": null,
            "right": null,
            "top": null,
            "visibility": null,
            "width": null
          }
        },
        "8135c8438a3a44b98ee800c79ff7736a": {
          "model_module": "@jupyter-widgets/controls",
          "model_name": "ProgressStyleModel",
          "model_module_version": "1.5.0",
          "state": {
            "_model_module": "@jupyter-widgets/controls",
            "_model_module_version": "1.5.0",
            "_model_name": "ProgressStyleModel",
            "_view_count": null,
            "_view_module": "@jupyter-widgets/base",
            "_view_module_version": "1.2.0",
            "_view_name": "StyleView",
            "bar_color": null,
            "description_width": ""
          }
        },
        "16181afe705641dba7dc8234b5cd786e": {
          "model_module": "@jupyter-widgets/base",
          "model_name": "LayoutModel",
          "model_module_version": "1.2.0",
          "state": {
            "_model_module": "@jupyter-widgets/base",
            "_model_module_version": "1.2.0",
            "_model_name": "LayoutModel",
            "_view_count": null,
            "_view_module": "@jupyter-widgets/base",
            "_view_module_version": "1.2.0",
            "_view_name": "LayoutView",
            "align_content": null,
            "align_items": null,
            "align_self": null,
            "border": null,
            "bottom": null,
            "display": null,
            "flex": null,
            "flex_flow": null,
            "grid_area": null,
            "grid_auto_columns": null,
            "grid_auto_flow": null,
            "grid_auto_rows": null,
            "grid_column": null,
            "grid_gap": null,
            "grid_row": null,
            "grid_template_areas": null,
            "grid_template_columns": null,
            "grid_template_rows": null,
            "height": null,
            "justify_content": null,
            "justify_items": null,
            "left": null,
            "margin": null,
            "max_height": null,
            "max_width": null,
            "min_height": null,
            "min_width": null,
            "object_fit": null,
            "object_position": null,
            "order": null,
            "overflow": null,
            "overflow_x": null,
            "overflow_y": null,
            "padding": null,
            "right": null,
            "top": null,
            "visibility": null,
            "width": null
          }
        },
        "b4f63624916b4773a176639d7f24e9bd": {
          "model_module": "@jupyter-widgets/controls",
          "model_name": "DescriptionStyleModel",
          "model_module_version": "1.5.0",
          "state": {
            "_model_module": "@jupyter-widgets/controls",
            "_model_module_version": "1.5.0",
            "_model_name": "DescriptionStyleModel",
            "_view_count": null,
            "_view_module": "@jupyter-widgets/base",
            "_view_module_version": "1.2.0",
            "_view_name": "StyleView",
            "description_width": ""
          }
        }
      }
    }
  },
  "nbformat": 4,
  "nbformat_minor": 5
}